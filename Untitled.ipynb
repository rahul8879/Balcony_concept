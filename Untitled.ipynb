{
 "cells": [
  {
   "cell_type": "code",
   "execution_count": null,
   "id": "4e4e7462",
   "metadata": {},
   "outputs": [],
   "source": [
    "!pip install rasa"
   ]
  },
  {
   "cell_type": "code",
   "execution_count": null,
   "id": "bc1a645f",
   "metadata": {},
   "outputs": [],
   "source": [
    "import pandas as pd\n",
    "from rasa.nlu.training_data import Message, TrainingData\n",
    "from rasa.core.domain import Domain\n",
    "\n",
    "# Training data in dictionary format\n",
    "training_data_dict = {\n",
    "    \"rasa_nlu_data\": {\n",
    "        \"common_examples\": [\n",
    "            {\"text\": \"Hello\", \"intent\": \"greet\"},\n",
    "            {\"text\": \"Hi there\", \"intent\": \"greet\"},\n",
    "            {\"text\": \"Goodbye\", \"intent\": \"goodbye\"},\n",
    "            {\"text\": \"See you later\", \"intent\": \"goodbye\"},\n",
    "        ]\n",
    "    }\n",
    "}\n",
    "\n",
    "# Create Rasa TrainingData object from the dictionary\n",
    "common_examples = training_data_dict[\"rasa_nlu_data\"][\"common_examples\"]\n",
    "training_data = TrainingData()\n",
    "for example in common_examples:\n",
    "    text = example[\"text\"]\n",
    "    intent = example[\"intent\"]\n",
    "    message = Message.build(text=text, intent=intent)\n",
    "    training_data.append(message)\n",
    "\n",
    "# Convert the training data to a pandas DataFrame\n",
    "training_data_df = pd.DataFrame(common_examples)"
   ]
  },
  {
   "cell_type": "code",
   "execution_count": null,
   "id": "87df519e",
   "metadata": {},
   "outputs": [],
   "source": [
    "from rasa.core.domain import Domain\n",
    "\n",
    "# Define your intents and responses\n",
    "intents = data['intent'].unique().tolist()\n",
    "responses = {\n",
    "    \"greet\": [{\"text\": \"Hello! How can I assist you today?\"}],\n",
    "    \"goodbye\": [{\"text\": \"Goodbye! Have a great day.\"}]\n",
    "}\n",
    "\n",
    "# Create Rasa Domain object\n",
    "domain = Domain.from_dict({\"intents\": intents, \"responses\": responses})\n"
   ]
  }
 ],
 "metadata": {
  "kernelspec": {
   "display_name": "Python 3 (ipykernel)",
   "language": "python",
   "name": "python3"
  },
  "language_info": {
   "codemirror_mode": {
    "name": "ipython",
    "version": 3
   },
   "file_extension": ".py",
   "mimetype": "text/x-python",
   "name": "python",
   "nbconvert_exporter": "python",
   "pygments_lexer": "ipython3",
   "version": "3.10.9"
  }
 },
 "nbformat": 4,
 "nbformat_minor": 5
}
